{
 "cells": [
  {
   "cell_type": "markdown",
   "metadata": {},
   "source": [
    "Energy prediction project"
   ]
  },
  {
   "cell_type": "markdown",
   "metadata": {},
   "source": [
    "1. Import Libraries"
   ]
  },
  {
   "cell_type": "code",
   "execution_count": 17,
   "metadata": {},
   "outputs": [],
   "source": [
    "import pandas as pd\n",
    "import numpy as np\n",
    "from sklearn.model_selection import train_test_split, GridSearchCV\n",
    "from sklearn.ensemble import GradientBoostingRegressor, RandomForestRegressor\n",
    "from sklearn.svm import SVR\n",
    "from sklearn.linear_model import LinearRegression\n",
    "from sklearn.metrics import mean_squared_error, mean_absolute_error, mean_absolute_percentage_error, r2_score\n",
    "from sklearn.preprocessing import StandardScaler, OneHotEncoder\n",
    "from sklearn.compose import ColumnTransformer\n",
    "from sklearn.pipeline import Pipeline\n",
    "from sklearn.impute import SimpleImputer\n",
    "from sklearn.feature_selection import RFE\n",
    "import matplotlib.pyplot as plt\n",
    "import seaborn as sns\n",
    "import os\n",
    "\n",
    "\n",
    "\n"
   ]
  },
  {
   "cell_type": "markdown",
   "metadata": {},
   "source": [
    "2. Load and Prepare Data"
   ]
  },
  {
   "cell_type": "code",
   "execution_count": 18,
   "metadata": {},
   "outputs": [],
   "source": [
    "\n",
    "# Load data\n",
    "train_data = pd.read_csv('/home/ahmed/Documents/GitHub/Energy-prediction-IOT/Data set/training.csv')\n",
    "test_data = pd.read_csv('/home/ahmed/Documents/GitHub/Energy-prediction-IOT/Data set/testing.csv')\n",
    "\n",
    "# Drop irrelevant features\n",
    "train_data = train_data.drop(columns=['rv1', 'rv2'])\n",
    "test_data = test_data.drop(columns=['rv1', 'rv2'])\n",
    "\n",
    "# Separate features and target variable\n",
    "X_train = train_data.drop(columns=['Appliances'])\n",
    "y_train = train_data['Appliances']\n",
    "X_test = test_data.drop(columns=['Appliances'])\n",
    "y_test = test_data['Appliances']\n",
    "\n",
    "# Define categorical and numerical features\n",
    "categorical_features = ['WeekStatus', 'Day_of_week']\n",
    "numerical_features = X_train.select_dtypes(include=['int64', 'float64']).columns\n",
    "\n",
    "# Create preprocessing pipelines for both types of features\n",
    "preprocessor = ColumnTransformer(\n",
    "    transformers=[\n",
    "        ('num', Pipeline(steps=[\n",
    "            ('imputer', SimpleImputer(strategy='median')),\n",
    "            ('scaler', StandardScaler())\n",
    "        ]), numerical_features),\n",
    "        ('cat', Pipeline(steps=[\n",
    "            ('imputer', SimpleImputer(strategy='constant', fill_value='missing')),\n",
    "            ('onehot', OneHotEncoder(handle_unknown='ignore'))\n",
    "        ]), categorical_features)\n",
    "    ]\n",
    ")\n",
    "\n",
    "# Apply preprocessing\n",
    "X_train_preprocessed = preprocessor.fit_transform(X_train)\n",
    "X_test_preprocessed = preprocessor.transform(X_test)\n"
   ]
  },
  {
   "cell_type": "markdown",
   "metadata": {},
   "source": [
    "3. Feature Selection "
   ]
  },
  {
   "cell_type": "code",
   "execution_count": 19,
   "metadata": {},
   "outputs": [
    {
     "name": "stdout",
     "output_type": "stream",
     "text": [
      "Selected Features: ['RH_1' 'T2' 'RH_2' 'T3' 'RH_3' 'T4' 'RH_4' 'T5' 'RH_5' 'T6' 'RH_6' 'RH_7'\n",
      " 'T8' 'RH_8' 'T9' 'RH_9' 'Press_mm_hg' 'RH_out' 'Tdewpoint' 'NSM']\n"
     ]
    }
   ],
   "source": [
    "\n",
    "# Initialize RFE with RandomForestRegressor\n",
    "rfe = RFE(estimator=RandomForestRegressor(), n_features_to_select=20)\n",
    "rfe.fit(X_train_preprocessed, y_train)\n",
    "\n",
    "# Get selected features\n",
    "# Since ColumnTransformer and OneHotEncoder change feature names, we need to use the transformed feature names\n",
    "feature_names = np.array(preprocessor.transformers_[1][1].named_steps['onehot'].get_feature_names_out())\n",
    "all_feature_names = np.concatenate([numerical_features, feature_names])\n",
    "selected_features = all_feature_names[rfe.support_]\n",
    "\n",
    "print(\"Selected Features:\", selected_features)\n"
   ]
  }
 ],
 "metadata": {
  "kernelspec": {
   "display_name": "Python 3",
   "language": "python",
   "name": "python3"
  },
  "language_info": {
   "codemirror_mode": {
    "name": "ipython",
    "version": 3
   },
   "file_extension": ".py",
   "mimetype": "text/x-python",
   "name": "python",
   "nbconvert_exporter": "python",
   "pygments_lexer": "ipython3",
   "version": "3.10.12"
  }
 },
 "nbformat": 4,
 "nbformat_minor": 2
}
